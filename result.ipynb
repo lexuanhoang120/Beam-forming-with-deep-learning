{
 "cells": [
  {
   "cell_type": "code",
   "execution_count": 7,
   "metadata": {},
   "outputs": [],
   "source": [
    "import pandas as pd\n",
    "import seaborn as sns\n",
    "import matplotlib.pyplot as plt"
   ]
  },
  {
   "cell_type": "markdown",
   "metadata": {},
   "source": [
    "### Parameter scenarios"
   ]
  },
  {
   "cell_type": "code",
   "execution_count": 26,
   "metadata": {},
   "outputs": [],
   "source": [
    "df_parameter = pd.read_csv('evaluation_results_parameter.csv')"
   ]
  },
  {
   "cell_type": "code",
   "execution_count": 27,
   "metadata": {},
   "outputs": [
    {
     "data": {
      "text/html": [
       "<div>\n",
       "<style scoped>\n",
       "    .dataframe tbody tr th:only-of-type {\n",
       "        vertical-align: middle;\n",
       "    }\n",
       "\n",
       "    .dataframe tbody tr th {\n",
       "        vertical-align: top;\n",
       "    }\n",
       "\n",
       "    .dataframe thead th {\n",
       "        text-align: right;\n",
       "    }\n",
       "</style>\n",
       "<table border=\"1\" class=\"dataframe\">\n",
       "  <thead>\n",
       "    <tr style=\"text-align: right;\">\n",
       "      <th></th>\n",
       "      <th>Setup</th>\n",
       "      <th>Activation</th>\n",
       "      <th>LearningRate</th>\n",
       "      <th>Epochs</th>\n",
       "      <th>SNR(dB)</th>\n",
       "      <th>SpectralEfficiency</th>\n",
       "    </tr>\n",
       "  </thead>\n",
       "  <tbody>\n",
       "    <tr>\n",
       "      <th>0</th>\n",
       "      <td>0db</td>\n",
       "      <td>relu</td>\n",
       "      <td>0.00100</td>\n",
       "      <td>100</td>\n",
       "      <td>-20</td>\n",
       "      <td>0.319179</td>\n",
       "    </tr>\n",
       "    <tr>\n",
       "      <th>1</th>\n",
       "      <td>0db</td>\n",
       "      <td>relu</td>\n",
       "      <td>0.00100</td>\n",
       "      <td>100</td>\n",
       "      <td>-15</td>\n",
       "      <td>0.746775</td>\n",
       "    </tr>\n",
       "    <tr>\n",
       "      <th>2</th>\n",
       "      <td>0db</td>\n",
       "      <td>relu</td>\n",
       "      <td>0.00100</td>\n",
       "      <td>100</td>\n",
       "      <td>-10</td>\n",
       "      <td>1.448309</td>\n",
       "    </tr>\n",
       "    <tr>\n",
       "      <th>3</th>\n",
       "      <td>0db</td>\n",
       "      <td>relu</td>\n",
       "      <td>0.00100</td>\n",
       "      <td>100</td>\n",
       "      <td>-5</td>\n",
       "      <td>2.413790</td>\n",
       "    </tr>\n",
       "    <tr>\n",
       "      <th>4</th>\n",
       "      <td>0db</td>\n",
       "      <td>relu</td>\n",
       "      <td>0.00100</td>\n",
       "      <td>100</td>\n",
       "      <td>0</td>\n",
       "      <td>3.617226</td>\n",
       "    </tr>\n",
       "    <tr>\n",
       "      <th>...</th>\n",
       "      <td>...</td>\n",
       "      <td>...</td>\n",
       "      <td>...</td>\n",
       "      <td>...</td>\n",
       "      <td>...</td>\n",
       "      <td>...</td>\n",
       "    </tr>\n",
       "    <tr>\n",
       "      <th>238</th>\n",
       "      <td>0db</td>\n",
       "      <td>sigmoid</td>\n",
       "      <td>0.00001</td>\n",
       "      <td>1000</td>\n",
       "      <td>0</td>\n",
       "      <td>3.528723</td>\n",
       "    </tr>\n",
       "    <tr>\n",
       "      <th>239</th>\n",
       "      <td>0db</td>\n",
       "      <td>sigmoid</td>\n",
       "      <td>0.00001</td>\n",
       "      <td>1000</td>\n",
       "      <td>5</td>\n",
       "      <td>4.945480</td>\n",
       "    </tr>\n",
       "    <tr>\n",
       "      <th>240</th>\n",
       "      <td>0db</td>\n",
       "      <td>sigmoid</td>\n",
       "      <td>0.00001</td>\n",
       "      <td>1000</td>\n",
       "      <td>10</td>\n",
       "      <td>6.487239</td>\n",
       "    </tr>\n",
       "    <tr>\n",
       "      <th>241</th>\n",
       "      <td>0db</td>\n",
       "      <td>sigmoid</td>\n",
       "      <td>0.00001</td>\n",
       "      <td>1000</td>\n",
       "      <td>15</td>\n",
       "      <td>8.093671</td>\n",
       "    </tr>\n",
       "    <tr>\n",
       "      <th>242</th>\n",
       "      <td>0db</td>\n",
       "      <td>sigmoid</td>\n",
       "      <td>0.00001</td>\n",
       "      <td>1000</td>\n",
       "      <td>20</td>\n",
       "      <td>9.730922</td>\n",
       "    </tr>\n",
       "  </tbody>\n",
       "</table>\n",
       "<p>243 rows × 6 columns</p>\n",
       "</div>"
      ],
      "text/plain": [
       "    Setup Activation  LearningRate  Epochs  SNR(dB)  SpectralEfficiency\n",
       "0     0db       relu       0.00100     100      -20            0.319179\n",
       "1     0db       relu       0.00100     100      -15            0.746775\n",
       "2     0db       relu       0.00100     100      -10            1.448309\n",
       "3     0db       relu       0.00100     100       -5            2.413790\n",
       "4     0db       relu       0.00100     100        0            3.617226\n",
       "..    ...        ...           ...     ...      ...                 ...\n",
       "238   0db    sigmoid       0.00001    1000        0            3.528723\n",
       "239   0db    sigmoid       0.00001    1000        5            4.945480\n",
       "240   0db    sigmoid       0.00001    1000       10            6.487239\n",
       "241   0db    sigmoid       0.00001    1000       15            8.093671\n",
       "242   0db    sigmoid       0.00001    1000       20            9.730922\n",
       "\n",
       "[243 rows x 6 columns]"
      ]
     },
     "execution_count": 27,
     "metadata": {},
     "output_type": "execute_result"
    }
   ],
   "source": [
    "df_parameter"
   ]
  },
  {
   "cell_type": "markdown",
   "metadata": {},
   "source": [
    "#### Compute summed SE"
   ]
  },
  {
   "cell_type": "code",
   "execution_count": 30,
   "metadata": {},
   "outputs": [
    {
     "data": {
      "text/html": [
       "<div>\n",
       "<style scoped>\n",
       "    .dataframe tbody tr th:only-of-type {\n",
       "        vertical-align: middle;\n",
       "    }\n",
       "\n",
       "    .dataframe tbody tr th {\n",
       "        vertical-align: top;\n",
       "    }\n",
       "\n",
       "    .dataframe thead th {\n",
       "        text-align: right;\n",
       "    }\n",
       "</style>\n",
       "<table border=\"1\" class=\"dataframe\">\n",
       "  <thead>\n",
       "    <tr style=\"text-align: right;\">\n",
       "      <th></th>\n",
       "      <th>Activation</th>\n",
       "      <th>LearningRate</th>\n",
       "      <th>Epochs</th>\n",
       "      <th>SpectralEfficiency</th>\n",
       "    </tr>\n",
       "  </thead>\n",
       "  <tbody>\n",
       "    <tr>\n",
       "      <th>0</th>\n",
       "      <td>relu</td>\n",
       "      <td>0.00001</td>\n",
       "      <td>100</td>\n",
       "      <td>35.637077</td>\n",
       "    </tr>\n",
       "    <tr>\n",
       "      <th>1</th>\n",
       "      <td>relu</td>\n",
       "      <td>0.00001</td>\n",
       "      <td>500</td>\n",
       "      <td>37.192214</td>\n",
       "    </tr>\n",
       "    <tr>\n",
       "      <th>2</th>\n",
       "      <td>relu</td>\n",
       "      <td>0.00001</td>\n",
       "      <td>1000</td>\n",
       "      <td>37.248853</td>\n",
       "    </tr>\n",
       "    <tr>\n",
       "      <th>3</th>\n",
       "      <td>relu</td>\n",
       "      <td>0.00010</td>\n",
       "      <td>100</td>\n",
       "      <td>37.384750</td>\n",
       "    </tr>\n",
       "    <tr>\n",
       "      <th>4</th>\n",
       "      <td>relu</td>\n",
       "      <td>0.00010</td>\n",
       "      <td>500</td>\n",
       "      <td>37.651309</td>\n",
       "    </tr>\n",
       "  </tbody>\n",
       "</table>\n",
       "</div>"
      ],
      "text/plain": [
       "  Activation  LearningRate  Epochs  SpectralEfficiency\n",
       "0       relu       0.00001     100           35.637077\n",
       "1       relu       0.00001     500           37.192214\n",
       "2       relu       0.00001    1000           37.248853\n",
       "3       relu       0.00010     100           37.384750\n",
       "4       relu       0.00010     500           37.651309"
      ]
     },
     "execution_count": 30,
     "metadata": {},
     "output_type": "execute_result"
    }
   ],
   "source": [
    "df_summed_se = df_parameter.groupby(['Activation','LearningRate','Epochs']).agg(\n",
    "    {'SpectralEfficiency':'sum',\n",
    "    }).reset_index()\n",
    "df_summed_se.head()"
   ]
  },
  {
   "cell_type": "markdown",
   "metadata": {},
   "source": [
    "#### Aggregate Epochs and Learning rate"
   ]
  },
  {
   "cell_type": "code",
   "execution_count": 31,
   "metadata": {},
   "outputs": [
    {
     "data": {
      "text/html": [
       "<div>\n",
       "<style scoped>\n",
       "    .dataframe tbody tr th:only-of-type {\n",
       "        vertical-align: middle;\n",
       "    }\n",
       "\n",
       "    .dataframe tbody tr th {\n",
       "        vertical-align: top;\n",
       "    }\n",
       "\n",
       "    .dataframe thead th {\n",
       "        text-align: right;\n",
       "    }\n",
       "</style>\n",
       "<table border=\"1\" class=\"dataframe\">\n",
       "  <thead>\n",
       "    <tr style=\"text-align: right;\">\n",
       "      <th></th>\n",
       "      <th>Epochs</th>\n",
       "      <th>LearningRate</th>\n",
       "      <th>SpectralEfficiency</th>\n",
       "    </tr>\n",
       "  </thead>\n",
       "  <tbody>\n",
       "    <tr>\n",
       "      <th>0</th>\n",
       "      <td>100</td>\n",
       "      <td>0.00001</td>\n",
       "      <td>33.402101</td>\n",
       "    </tr>\n",
       "    <tr>\n",
       "      <th>1</th>\n",
       "      <td>100</td>\n",
       "      <td>0.00010</td>\n",
       "      <td>37.535217</td>\n",
       "    </tr>\n",
       "    <tr>\n",
       "      <th>2</th>\n",
       "      <td>100</td>\n",
       "      <td>0.00100</td>\n",
       "      <td>38.336505</td>\n",
       "    </tr>\n",
       "    <tr>\n",
       "      <th>3</th>\n",
       "      <td>500</td>\n",
       "      <td>0.00001</td>\n",
       "      <td>36.704965</td>\n",
       "    </tr>\n",
       "    <tr>\n",
       "      <th>4</th>\n",
       "      <td>500</td>\n",
       "      <td>0.00010</td>\n",
       "      <td>38.069970</td>\n",
       "    </tr>\n",
       "    <tr>\n",
       "      <th>5</th>\n",
       "      <td>500</td>\n",
       "      <td>0.00100</td>\n",
       "      <td>38.262203</td>\n",
       "    </tr>\n",
       "    <tr>\n",
       "      <th>6</th>\n",
       "      <td>1000</td>\n",
       "      <td>0.00001</td>\n",
       "      <td>37.358119</td>\n",
       "    </tr>\n",
       "    <tr>\n",
       "      <th>7</th>\n",
       "      <td>1000</td>\n",
       "      <td>0.00010</td>\n",
       "      <td>37.858106</td>\n",
       "    </tr>\n",
       "    <tr>\n",
       "      <th>8</th>\n",
       "      <td>1000</td>\n",
       "      <td>0.00100</td>\n",
       "      <td>38.408424</td>\n",
       "    </tr>\n",
       "  </tbody>\n",
       "</table>\n",
       "</div>"
      ],
      "text/plain": [
       "   Epochs  LearningRate  SpectralEfficiency\n",
       "0     100       0.00001           33.402101\n",
       "1     100       0.00010           37.535217\n",
       "2     100       0.00100           38.336505\n",
       "3     500       0.00001           36.704965\n",
       "4     500       0.00010           38.069970\n",
       "5     500       0.00100           38.262203\n",
       "6    1000       0.00001           37.358119\n",
       "7    1000       0.00010           37.858106\n",
       "8    1000       0.00100           38.408424"
      ]
     },
     "execution_count": 31,
     "metadata": {},
     "output_type": "execute_result"
    }
   ],
   "source": [
    "df_summed_se.groupby(['Epochs','LearningRate']).agg(\n",
    "    {'SpectralEfficiency':'mean',\n",
    "    }).reset_index()\n"
   ]
  },
  {
   "cell_type": "markdown",
   "metadata": {},
   "source": [
    "#### Aggregate Activation function"
   ]
  },
  {
   "cell_type": "code",
   "execution_count": 35,
   "metadata": {},
   "outputs": [
    {
     "data": {
      "text/html": [
       "<div>\n",
       "<style scoped>\n",
       "    .dataframe tbody tr th:only-of-type {\n",
       "        vertical-align: middle;\n",
       "    }\n",
       "\n",
       "    .dataframe tbody tr th {\n",
       "        vertical-align: top;\n",
       "    }\n",
       "\n",
       "    .dataframe thead th {\n",
       "        text-align: right;\n",
       "    }\n",
       "</style>\n",
       "<table border=\"1\" class=\"dataframe\">\n",
       "  <thead>\n",
       "    <tr style=\"text-align: right;\">\n",
       "      <th></th>\n",
       "      <th>Activation</th>\n",
       "      <th>SpectralEfficiency</th>\n",
       "    </tr>\n",
       "  </thead>\n",
       "  <tbody>\n",
       "    <tr>\n",
       "      <th>0</th>\n",
       "      <td>relu</td>\n",
       "      <td>37.368769</td>\n",
       "    </tr>\n",
       "    <tr>\n",
       "      <th>1</th>\n",
       "      <td>sigmoid</td>\n",
       "      <td>37.362116</td>\n",
       "    </tr>\n",
       "    <tr>\n",
       "      <th>2</th>\n",
       "      <td>tanh</td>\n",
       "      <td>37.247652</td>\n",
       "    </tr>\n",
       "  </tbody>\n",
       "</table>\n",
       "</div>"
      ],
      "text/plain": [
       "  Activation  SpectralEfficiency\n",
       "0       relu           37.368769\n",
       "1    sigmoid           37.362116\n",
       "2       tanh           37.247652"
      ]
     },
     "execution_count": 35,
     "metadata": {},
     "output_type": "execute_result"
    }
   ],
   "source": [
    "df_summed_se.groupby(['Activation']).agg(\n",
    "    {'SpectralEfficiency':'mean',\n",
    "    }).reset_index()"
   ]
  },
  {
   "cell_type": "markdown",
   "metadata": {},
   "source": [
    "### Channel scenarios"
   ]
  },
  {
   "cell_type": "markdown",
   "metadata": {},
   "source": [
    "#### Varying PNR"
   ]
  },
  {
   "cell_type": "code",
   "execution_count": 17,
   "metadata": {},
   "outputs": [],
   "source": [
    "df_channel = pd.read_csv('evaluation_results_channel.csv')"
   ]
  },
  {
   "cell_type": "code",
   "execution_count": 19,
   "metadata": {},
   "outputs": [],
   "source": [
    "df_pnr = df_channel[df_channel.Setup.isin(['-20db','0db','20db'])]\n",
    "df_pnr.columns = ['PNR(dB)','Activation','LearningRate','Epochs','SNR(dB)','SpectralEfficiency']"
   ]
  },
  {
   "cell_type": "code",
   "execution_count": null,
   "metadata": {},
   "outputs": [
    {
     "data": {
      "image/png": "[encoded data removed]",
      "text/plain": [
       "<Figure size 640x480 with 1 Axes>"
      ]
     },
     "metadata": {},
     "output_type": "display_data"
    }
   ],
   "source": [
    "# Original lineplot\n",
    "sns.lineplot(\n",
    "    data=df_pnr,\n",
    "    x='SNR(dB)',\n",
    "    y='SpectralEfficiency',\n",
    "    hue='PNR(dB)',\n",
    "    style='PNR(dB)',\n",
    "    markers=True,\n",
    "    dashes=False\n",
    ")\n",
    "plt.xlabel('SNR (dB)')\n",
    "plt.ylabel('Spectral Efficiency (bits/s/Hz)')\n",
    "# Add annotations\n",
    "for _, row in df_pnr.iterrows():\n",
    "    plt.text(\n",
    "        row['SNR(dB)'], row['SpectralEfficiency'] + 0.02,  # slight offset\n",
    "        f\"{row['SpectralEfficiency']:.2f}\",\n",
    "        ha='center', va='bottom', fontsize=8\n",
    "    )\n",
    "\n",
    "plt.title('Spectral Efficiency vs SNR for Different PNR Levels')\n",
    "plt.show()\n"
   ]
  },
  {
   "cell_type": "markdown",
   "metadata": {},
   "source": [
    "#### Varying Lest"
   ]
  },
  {
   "cell_type": "code",
   "execution_count": 22,
   "metadata": {},
   "outputs": [],
   "source": [
    "df_lest = df_channel[df_channel.Setup.isin(['Lest1','Lest2'])]\n",
    "df_lest.columns = ['Lest','Activation','LearningRate','Epochs','SNR(dB)','SpectralEfficiency']"
   ]
  },
  {
   "cell_type": "code",
   "execution_count": 23,
   "metadata": {},
   "outputs": [
    {
     "data": {
      "image/png": "[encoded data removed]",
      "text/plain": [
       "<Figure size 640x480 with 1 Axes>"
      ]
     },
     "metadata": {},
     "output_type": "display_data"
    }
   ],
   "source": [
    "# Original lineplot\n",
    "sns.lineplot(\n",
    "    data=df_lest,\n",
    "    x='SNR(dB)',\n",
    "    y='SpectralEfficiency',\n",
    "    hue='Lest',\n",
    "    style='Lest',\n",
    "    markers=True,\n",
    "    dashes=False\n",
    ")\n",
    "plt.xlabel('SNR (dB)')\n",
    "plt.ylabel('Spectral Efficiency (bits/s/Hz)')\n",
    "# Add annotations\n",
    "for _, row in df_lest.iterrows():\n",
    "    plt.text(\n",
    "        row['SNR(dB)'], row['SpectralEfficiency'] + 0.02,  # slight offset\n",
    "        f\"{row['SpectralEfficiency']:.2f}\",\n",
    "        ha='center', va='bottom', fontsize=8\n",
    "    )\n",
    "\n",
    "plt.title('Spectral Efficiency vs SNR for Different Lest Levels')\n",
    "plt.legend(title='Lest', loc='upper left')\n",
    "plt.show()\n"
   ]
  },
  {
   "cell_type": "code",
   "execution_count": null,
   "metadata": {},
   "outputs": [
    {
     "data": {
      "text/html": [
       "<div>\n",
       "<style scoped>\n",
       "    .dataframe tbody tr th:only-of-type {\n",
       "        vertical-align: middle;\n",
       "    }\n",
       "\n",
       "    .dataframe tbody tr th {\n",
       "        vertical-align: top;\n",
       "    }\n",
       "\n",
       "    .dataframe thead th {\n",
       "        text-align: right;\n",
       "    }\n",
       "</style>\n",
       "<table border=\"1\" class=\"dataframe\">\n",
       "  <thead>\n",
       "    <tr style=\"text-align: right;\">\n",
       "      <th></th>\n",
       "      <th>Epochs</th>\n",
       "      <th>LearningRate</th>\n",
       "      <th>SpectralEfficiency</th>\n",
       "    </tr>\n",
       "  </thead>\n",
       "  <tbody>\n",
       "    <tr>\n",
       "      <th>0</th>\n",
       "      <td>100</td>\n",
       "      <td>0.00001</td>\n",
       "      <td>33.402101</td>\n",
       "    </tr>\n",
       "    <tr>\n",
       "      <th>1</th>\n",
       "      <td>100</td>\n",
       "      <td>0.00010</td>\n",
       "      <td>37.535217</td>\n",
       "    </tr>\n",
       "    <tr>\n",
       "      <th>2</th>\n",
       "      <td>100</td>\n",
       "      <td>0.00100</td>\n",
       "      <td>38.336505</td>\n",
       "    </tr>\n",
       "    <tr>\n",
       "      <th>3</th>\n",
       "      <td>500</td>\n",
       "      <td>0.00001</td>\n",
       "      <td>36.704965</td>\n",
       "    </tr>\n",
       "    <tr>\n",
       "      <th>4</th>\n",
       "      <td>500</td>\n",
       "      <td>0.00010</td>\n",
       "      <td>38.069970</td>\n",
       "    </tr>\n",
       "    <tr>\n",
       "      <th>5</th>\n",
       "      <td>500</td>\n",
       "      <td>0.00100</td>\n",
       "      <td>38.262203</td>\n",
       "    </tr>\n",
       "    <tr>\n",
       "      <th>6</th>\n",
       "      <td>1000</td>\n",
       "      <td>0.00001</td>\n",
       "      <td>37.358119</td>\n",
       "    </tr>\n",
       "    <tr>\n",
       "      <th>7</th>\n",
       "      <td>1000</td>\n",
       "      <td>0.00010</td>\n",
       "      <td>37.858106</td>\n",
       "    </tr>\n",
       "    <tr>\n",
       "      <th>8</th>\n",
       "      <td>1000</td>\n",
       "      <td>0.00100</td>\n",
       "      <td>38.408424</td>\n",
       "    </tr>\n",
       "  </tbody>\n",
       "</table>\n",
       "</div>"
      ],
      "text/plain": [
       "   Epochs  LearningRate  SpectralEfficiency\n",
       "0     100       0.00001           33.402101\n",
       "1     100       0.00010           37.535217\n",
       "2     100       0.00100           38.336505\n",
       "3     500       0.00001           36.704965\n",
       "4     500       0.00010           38.069970\n",
       "5     500       0.00100           38.262203\n",
       "6    1000       0.00001           37.358119\n",
       "7    1000       0.00010           37.858106\n",
       "8    1000       0.00100           38.408424"
      ]
     },
     "execution_count": 25,
     "metadata": {},
     "output_type": "execute_result"
    }
   ],
   "source": []
  },
  {
   "cell_type": "code",
   "execution_count": null,
   "metadata": {},
   "outputs": [],
   "source": []
  }
 ],
 "metadata": {
  "kernelspec": {
   "display_name": "uav2",
   "language": "python",
   "name": "python3"
  },
  "language_info": {
   "codemirror_mode": {
    "name": "ipython",
    "version": 3
   },
   "file_extension": ".py",
   "mimetype": "text/x-python",
   "name": "python",
   "nbconvert_exporter": "python",
   "pygments_lexer": "ipython3",
   "version": "3.10.16"
  }
 },
 "nbformat": 4,
 "nbformat_minor": 2
}
